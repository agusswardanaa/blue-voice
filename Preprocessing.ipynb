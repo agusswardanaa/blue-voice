{
 "cells": [
  {
   "cell_type": "markdown",
   "id": "b2ed459d",
   "metadata": {},
   "source": [
    "## Import Library"
   ]
  },
  {
   "cell_type": "code",
   "execution_count": 1,
   "id": "b423ebc6",
   "metadata": {},
   "outputs": [],
   "source": [
    "import pandas as pd\n",
    "import numpy as np\n",
    "import seaborn as sns\n",
    "import matplotlib.pyplot as plt\n",
    "import re\n",
    "\n",
    "import string\n",
    "import nltk\n",
    "from nltk.tokenize import word_tokenize\n",
    "from nltk.corpus import stopwords"
   ]
  },
  {
   "cell_type": "markdown",
   "id": "4ecb0ae7",
   "metadata": {},
   "source": [
    "## Data Loading"
   ]
  },
  {
   "cell_type": "code",
   "execution_count": 2,
   "id": "458fce15",
   "metadata": {},
   "outputs": [],
   "source": [
    "dataset = pd.read_excel(\"data/dataset.xlsx\")"
   ]
  },
  {
   "cell_type": "markdown",
   "id": "907e1de9",
   "metadata": {},
   "source": [
    "## Data Preparation"
   ]
  },
  {
   "cell_type": "markdown",
   "id": "03f9ac94",
   "metadata": {},
   "source": [
    "### Data Assessing"
   ]
  },
  {
   "cell_type": "markdown",
   "id": "fa2b2f9b",
   "metadata": {},
   "source": [
    "#### Pengecekan Review Duplikat"
   ]
  },
  {
   "cell_type": "code",
   "execution_count": 3,
   "id": "424a7290",
   "metadata": {},
   "outputs": [
    {
     "name": "stdout",
     "output_type": "stream",
     "text": [
      "Jumlah Duplikasi Data: 10\n"
     ]
    }
   ],
   "source": [
    "print(f\"Jumlah Duplikasi Data: {dataset.duplicated().sum()}\")"
   ]
  },
  {
   "cell_type": "markdown",
   "id": "92ad0f35",
   "metadata": {},
   "source": [
    "### Data Cleaning"
   ]
  },
  {
   "cell_type": "markdown",
   "id": "0533030c",
   "metadata": {},
   "source": [
    "#### Penghapusan Data Duplikat"
   ]
  },
  {
   "cell_type": "code",
   "execution_count": 4,
   "id": "d2049c4c",
   "metadata": {},
   "outputs": [],
   "source": [
    "dataset.drop_duplicates(inplace=True)"
   ]
  },
  {
   "cell_type": "code",
   "execution_count": 5,
   "id": "ed27b989",
   "metadata": {},
   "outputs": [
    {
     "name": "stdout",
     "output_type": "stream",
     "text": [
      "Jumlah Duplikasi Data: 0\n"
     ]
    }
   ],
   "source": [
    "print(f\"Jumlah Duplikasi Data: {dataset.duplicated().sum()}\")"
   ]
  },
  {
   "cell_type": "markdown",
   "id": "4588da01",
   "metadata": {},
   "source": [
    "### Pemisahan Review Menurut Aspek"
   ]
  },
  {
   "cell_type": "markdown",
   "id": "2340d737",
   "metadata": {},
   "source": [
    "#### Attractions"
   ]
  },
  {
   "cell_type": "code",
   "execution_count": 6,
   "id": "11942ebb",
   "metadata": {},
   "outputs": [
    {
     "name": "stderr",
     "output_type": "stream",
     "text": [
      "C:\\Users\\hp14s\\AppData\\Local\\Temp\\ipykernel_1928\\3978727431.py:5: SettingWithCopyWarning: \n",
      "A value is trying to be set on a copy of a slice from a DataFrame\n",
      "\n",
      "See the caveats in the documentation: https://pandas.pydata.org/pandas-docs/stable/user_guide/indexing.html#returning-a-view-versus-a-copy\n",
      "  attractions.loc[mask_none, \"text\"] = dataset.loc[mask_none, \"review\"]\n",
      "C:\\Users\\hp14s\\AppData\\Local\\Temp\\ipykernel_1928\\3978727431.py:7: SettingWithCopyWarning: \n",
      "A value is trying to be set on a copy of a slice from a DataFrame.\n",
      "Try using .loc[row_indexer,col_indexer] = value instead\n",
      "\n",
      "See the caveats in the documentation: https://pandas.pydata.org/pandas-docs/stable/user_guide/indexing.html#returning-a-view-versus-a-copy\n",
      "  attractions[\"label\"] = attractions[\"label\"].str.replace(\"(?i)^netral$\", \"neutral\", regex=True)\n"
     ]
    },
    {
     "data": {
      "text/html": [
       "<div>\n",
       "<style scoped>\n",
       "    .dataframe tbody tr th:only-of-type {\n",
       "        vertical-align: middle;\n",
       "    }\n",
       "\n",
       "    .dataframe tbody tr th {\n",
       "        vertical-align: top;\n",
       "    }\n",
       "\n",
       "    .dataframe thead th {\n",
       "        text-align: right;\n",
       "    }\n",
       "</style>\n",
       "<table border=\"1\" class=\"dataframe\">\n",
       "  <thead>\n",
       "    <tr style=\"text-align: right;\">\n",
       "      <th></th>\n",
       "      <th>text</th>\n",
       "      <th>label</th>\n",
       "    </tr>\n",
       "  </thead>\n",
       "  <tbody>\n",
       "    <tr>\n",
       "      <th>0</th>\n",
       "      <td>Suka Bali - area keluarga yang luar biasa_x000...</td>\n",
       "      <td>none</td>\n",
       "    </tr>\n",
       "    <tr>\n",
       "      <th>1</th>\n",
       "      <td>Anda dapat berlari dan menonton matahari terbi...</td>\n",
       "      <td>positive</td>\n",
       "    </tr>\n",
       "    <tr>\n",
       "      <th>2</th>\n",
       "      <td>Lokasi paling pas liat sunrise..harus datang s...</td>\n",
       "      <td>positive</td>\n",
       "    </tr>\n",
       "    <tr>\n",
       "      <th>3</th>\n",
       "      <td>Tempatnya bagus, selalu ramai oleh pengunjung....</td>\n",
       "      <td>positive</td>\n",
       "    </tr>\n",
       "    <tr>\n",
       "      <th>4</th>\n",
       "      <td>pantai sanur banyak menyimpan misteri dan sang...</td>\n",
       "      <td>positive</td>\n",
       "    </tr>\n",
       "    <tr>\n",
       "      <th>...</th>\n",
       "      <td>...</td>\n",
       "      <td>...</td>\n",
       "    </tr>\n",
       "    <tr>\n",
       "      <th>3616</th>\n",
       "      <td>Pantai losari adalah salah itu icon di kota ma...</td>\n",
       "      <td>none</td>\n",
       "    </tr>\n",
       "    <tr>\n",
       "      <th>3617</th>\n",
       "      <td>Salah satu tempat pilihan bila berkunjung Ke M...</td>\n",
       "      <td>none</td>\n",
       "    </tr>\n",
       "    <tr>\n",
       "      <th>3618</th>\n",
       "      <td>Salah satu objek wisata yang ada di kota makas...</td>\n",
       "      <td>none</td>\n",
       "    </tr>\n",
       "    <tr>\n",
       "      <th>3619</th>\n",
       "      <td>Lumayan bersih, asik untuk dikelilingi saat ma...</td>\n",
       "      <td>positive</td>\n",
       "    </tr>\n",
       "    <tr>\n",
       "      <th>3620</th>\n",
       "      <td>Menjadi salah satu destinasi wisata ketika ber...</td>\n",
       "      <td>none</td>\n",
       "    </tr>\n",
       "  </tbody>\n",
       "</table>\n",
       "<p>3610 rows × 2 columns</p>\n",
       "</div>"
      ],
      "text/plain": [
       "                                                   text     label\n",
       "0     Suka Bali - area keluarga yang luar biasa_x000...      none\n",
       "1     Anda dapat berlari dan menonton matahari terbi...  positive\n",
       "2     Lokasi paling pas liat sunrise..harus datang s...  positive\n",
       "3     Tempatnya bagus, selalu ramai oleh pengunjung....  positive\n",
       "4     pantai sanur banyak menyimpan misteri dan sang...  positive\n",
       "...                                                 ...       ...\n",
       "3616  Pantai losari adalah salah itu icon di kota ma...      none\n",
       "3617  Salah satu tempat pilihan bila berkunjung Ke M...      none\n",
       "3618  Salah satu objek wisata yang ada di kota makas...      none\n",
       "3619  Lumayan bersih, asik untuk dikelilingi saat ma...  positive\n",
       "3620  Menjadi salah satu destinasi wisata ketika ber...      none\n",
       "\n",
       "[3610 rows x 2 columns]"
      ]
     },
     "execution_count": 6,
     "metadata": {},
     "output_type": "execute_result"
    }
   ],
   "source": [
    "attractions = dataset[[\"attractions_text\", \"attractions\"]]\n",
    "attractions.columns = [\"text\", \"label\"]\n",
    "\n",
    "mask_none = attractions[\"label\"].str.lower() == \"none\"\n",
    "attractions.loc[mask_none, \"text\"] = dataset.loc[mask_none, \"review\"]\n",
    "                                                 \n",
    "attractions[\"label\"] = attractions[\"label\"].str.replace(\"(?i)^netral$\", \"neutral\", regex=True)\n",
    "attractions = attractions.dropna()\n",
    "attractions"
   ]
  },
  {
   "cell_type": "markdown",
   "id": "cd6b47aa",
   "metadata": {},
   "source": [
    "#### Amenities"
   ]
  },
  {
   "cell_type": "code",
   "execution_count": 7,
   "id": "a330b832",
   "metadata": {},
   "outputs": [
    {
     "name": "stderr",
     "output_type": "stream",
     "text": [
      "C:\\Users\\hp14s\\AppData\\Local\\Temp\\ipykernel_1928\\3410348378.py:5: SettingWithCopyWarning: \n",
      "A value is trying to be set on a copy of a slice from a DataFrame\n",
      "\n",
      "See the caveats in the documentation: https://pandas.pydata.org/pandas-docs/stable/user_guide/indexing.html#returning-a-view-versus-a-copy\n",
      "  amenities.loc[mask_none, \"text\"] = dataset.loc[mask_none, \"review\"]\n",
      "C:\\Users\\hp14s\\AppData\\Local\\Temp\\ipykernel_1928\\3410348378.py:7: SettingWithCopyWarning: \n",
      "A value is trying to be set on a copy of a slice from a DataFrame.\n",
      "Try using .loc[row_indexer,col_indexer] = value instead\n",
      "\n",
      "See the caveats in the documentation: https://pandas.pydata.org/pandas-docs/stable/user_guide/indexing.html#returning-a-view-versus-a-copy\n",
      "  amenities[\"label\"] = amenities[\"label\"].str.replace(\"(?i)^netral$\", \"neutral\", regex=True)\n"
     ]
    },
    {
     "data": {
      "text/html": [
       "<div>\n",
       "<style scoped>\n",
       "    .dataframe tbody tr th:only-of-type {\n",
       "        vertical-align: middle;\n",
       "    }\n",
       "\n",
       "    .dataframe tbody tr th {\n",
       "        vertical-align: top;\n",
       "    }\n",
       "\n",
       "    .dataframe thead th {\n",
       "        text-align: right;\n",
       "    }\n",
       "</style>\n",
       "<table border=\"1\" class=\"dataframe\">\n",
       "  <thead>\n",
       "    <tr style=\"text-align: right;\">\n",
       "      <th></th>\n",
       "      <th>text</th>\n",
       "      <th>label</th>\n",
       "    </tr>\n",
       "  </thead>\n",
       "  <tbody>\n",
       "    <tr>\n",
       "      <th>0</th>\n",
       "      <td>Suka Bali - area keluarga yang luar biasa_x000...</td>\n",
       "      <td>none</td>\n",
       "    </tr>\n",
       "    <tr>\n",
       "      <th>1</th>\n",
       "      <td>Setelah Anda berjalan anda dapat menikmati hid...</td>\n",
       "      <td>neutral</td>\n",
       "    </tr>\n",
       "    <tr>\n",
       "      <th>2</th>\n",
       "      <td>Lokasi paling pas liat sunrise..harus datang s...</td>\n",
       "      <td>none</td>\n",
       "    </tr>\n",
       "    <tr>\n",
       "      <th>3</th>\n",
       "      <td>Tempatnya bagus, selalu ramai oleh pengunjung....</td>\n",
       "      <td>none</td>\n",
       "    </tr>\n",
       "    <tr>\n",
       "      <th>4</th>\n",
       "      <td>pantai sanur banyak menyimpan misteri dan sang...</td>\n",
       "      <td>none</td>\n",
       "    </tr>\n",
       "    <tr>\n",
       "      <th>...</th>\n",
       "      <td>...</td>\n",
       "      <td>...</td>\n",
       "    </tr>\n",
       "    <tr>\n",
       "      <th>3616</th>\n",
       "      <td>Di pantai losari banyak terdapat patung patung...</td>\n",
       "      <td>positive</td>\n",
       "    </tr>\n",
       "    <tr>\n",
       "      <th>3617</th>\n",
       "      <td>Salah satu tempat pilihan bila berkunjung Ke M...</td>\n",
       "      <td>none</td>\n",
       "    </tr>\n",
       "    <tr>\n",
       "      <th>3618</th>\n",
       "      <td>Salah satu objek wisata yang ada di kota makas...</td>\n",
       "      <td>none</td>\n",
       "    </tr>\n",
       "    <tr>\n",
       "      <th>3619</th>\n",
       "      <td>Lumayan bersih, asik untuk dikelilingi saat ma...</td>\n",
       "      <td>positive</td>\n",
       "    </tr>\n",
       "    <tr>\n",
       "      <th>3620</th>\n",
       "      <td>Menjadi salah satu destinasi wisata ketika ber...</td>\n",
       "      <td>positive</td>\n",
       "    </tr>\n",
       "  </tbody>\n",
       "</table>\n",
       "<p>3611 rows × 2 columns</p>\n",
       "</div>"
      ],
      "text/plain": [
       "                                                   text     label\n",
       "0     Suka Bali - area keluarga yang luar biasa_x000...      none\n",
       "1     Setelah Anda berjalan anda dapat menikmati hid...   neutral\n",
       "2     Lokasi paling pas liat sunrise..harus datang s...      none\n",
       "3     Tempatnya bagus, selalu ramai oleh pengunjung....      none\n",
       "4     pantai sanur banyak menyimpan misteri dan sang...      none\n",
       "...                                                 ...       ...\n",
       "3616  Di pantai losari banyak terdapat patung patung...  positive\n",
       "3617  Salah satu tempat pilihan bila berkunjung Ke M...      none\n",
       "3618  Salah satu objek wisata yang ada di kota makas...      none\n",
       "3619  Lumayan bersih, asik untuk dikelilingi saat ma...  positive\n",
       "3620  Menjadi salah satu destinasi wisata ketika ber...  positive\n",
       "\n",
       "[3611 rows x 2 columns]"
      ]
     },
     "execution_count": 7,
     "metadata": {},
     "output_type": "execute_result"
    }
   ],
   "source": [
    "amenities = dataset[[\"amenities_text\", \"amenities\"]]\n",
    "amenities.columns = [\"text\", \"label\"]\n",
    "\n",
    "mask_none = amenities[\"label\"].str.lower() == \"none\"\n",
    "amenities.loc[mask_none, \"text\"] = dataset.loc[mask_none, \"review\"]\n",
    "\n",
    "amenities[\"label\"] = amenities[\"label\"].str.replace(\"(?i)^netral$\", \"neutral\", regex=True)\n",
    "amenities = amenities.dropna()\n",
    "amenities"
   ]
  },
  {
   "cell_type": "markdown",
   "id": "4df33186",
   "metadata": {},
   "source": [
    "#### Access"
   ]
  },
  {
   "cell_type": "code",
   "execution_count": 8,
   "id": "697d8dc6",
   "metadata": {},
   "outputs": [
    {
     "name": "stderr",
     "output_type": "stream",
     "text": [
      "C:\\Users\\hp14s\\AppData\\Local\\Temp\\ipykernel_1928\\3732846775.py:5: SettingWithCopyWarning: \n",
      "A value is trying to be set on a copy of a slice from a DataFrame\n",
      "\n",
      "See the caveats in the documentation: https://pandas.pydata.org/pandas-docs/stable/user_guide/indexing.html#returning-a-view-versus-a-copy\n",
      "  access.loc[mask_none, \"text\"] = dataset.loc[mask_none, \"review\"]\n",
      "C:\\Users\\hp14s\\AppData\\Local\\Temp\\ipykernel_1928\\3732846775.py:7: SettingWithCopyWarning: \n",
      "A value is trying to be set on a copy of a slice from a DataFrame.\n",
      "Try using .loc[row_indexer,col_indexer] = value instead\n",
      "\n",
      "See the caveats in the documentation: https://pandas.pydata.org/pandas-docs/stable/user_guide/indexing.html#returning-a-view-versus-a-copy\n",
      "  access[\"label\"] = access[\"label\"].str.replace(\"(?i)^netral$\", \"neutral\", regex=True)\n"
     ]
    },
    {
     "data": {
      "text/html": [
       "<div>\n",
       "<style scoped>\n",
       "    .dataframe tbody tr th:only-of-type {\n",
       "        vertical-align: middle;\n",
       "    }\n",
       "\n",
       "    .dataframe tbody tr th {\n",
       "        vertical-align: top;\n",
       "    }\n",
       "\n",
       "    .dataframe thead th {\n",
       "        text-align: right;\n",
       "    }\n",
       "</style>\n",
       "<table border=\"1\" class=\"dataframe\">\n",
       "  <thead>\n",
       "    <tr style=\"text-align: right;\">\n",
       "      <th></th>\n",
       "      <th>text</th>\n",
       "      <th>label</th>\n",
       "    </tr>\n",
       "  </thead>\n",
       "  <tbody>\n",
       "    <tr>\n",
       "      <th>0</th>\n",
       "      <td>Suka Bali - area keluarga yang luar biasa_x000...</td>\n",
       "      <td>none</td>\n",
       "    </tr>\n",
       "    <tr>\n",
       "      <th>1</th>\n",
       "      <td>Saya selalu berjalan di Pantai Sanur pada hari...</td>\n",
       "      <td>none</td>\n",
       "    </tr>\n",
       "    <tr>\n",
       "      <th>2</th>\n",
       "      <td>Lokasi paling pas liat sunrise..harus datang s...</td>\n",
       "      <td>none</td>\n",
       "    </tr>\n",
       "    <tr>\n",
       "      <th>3</th>\n",
       "      <td>Tempatnya bagus, selalu ramai oleh pengunjung....</td>\n",
       "      <td>none</td>\n",
       "    </tr>\n",
       "    <tr>\n",
       "      <th>4</th>\n",
       "      <td>pantai sanur banyak menyimpan misteri dan sang...</td>\n",
       "      <td>none</td>\n",
       "    </tr>\n",
       "    <tr>\n",
       "      <th>...</th>\n",
       "      <td>...</td>\n",
       "      <td>...</td>\n",
       "    </tr>\n",
       "    <tr>\n",
       "      <th>3616</th>\n",
       "      <td>Di pantai losari banyak terdapat patung patung...</td>\n",
       "      <td>positive</td>\n",
       "    </tr>\n",
       "    <tr>\n",
       "      <th>3617</th>\n",
       "      <td>Salah satu tempat pilihan bila berkunjung Ke M...</td>\n",
       "      <td>none</td>\n",
       "    </tr>\n",
       "    <tr>\n",
       "      <th>3618</th>\n",
       "      <td>Salah satu objek wisata yang ada di kota makas...</td>\n",
       "      <td>none</td>\n",
       "    </tr>\n",
       "    <tr>\n",
       "      <th>3619</th>\n",
       "      <td>Lumayan bersih, asik untuk dikelilingi saat ma...</td>\n",
       "      <td>none</td>\n",
       "    </tr>\n",
       "    <tr>\n",
       "      <th>3620</th>\n",
       "      <td>Menjadi salah satu destinasi wisata ketika ber...</td>\n",
       "      <td>none</td>\n",
       "    </tr>\n",
       "  </tbody>\n",
       "</table>\n",
       "<p>3611 rows × 2 columns</p>\n",
       "</div>"
      ],
      "text/plain": [
       "                                                   text     label\n",
       "0     Suka Bali - area keluarga yang luar biasa_x000...      none\n",
       "1     Saya selalu berjalan di Pantai Sanur pada hari...      none\n",
       "2     Lokasi paling pas liat sunrise..harus datang s...      none\n",
       "3     Tempatnya bagus, selalu ramai oleh pengunjung....      none\n",
       "4     pantai sanur banyak menyimpan misteri dan sang...      none\n",
       "...                                                 ...       ...\n",
       "3616  Di pantai losari banyak terdapat patung patung...  positive\n",
       "3617  Salah satu tempat pilihan bila berkunjung Ke M...      none\n",
       "3618  Salah satu objek wisata yang ada di kota makas...      none\n",
       "3619  Lumayan bersih, asik untuk dikelilingi saat ma...      none\n",
       "3620  Menjadi salah satu destinasi wisata ketika ber...      none\n",
       "\n",
       "[3611 rows x 2 columns]"
      ]
     },
     "execution_count": 8,
     "metadata": {},
     "output_type": "execute_result"
    }
   ],
   "source": [
    "access = dataset[[\"access_text\", \"access\"]]\n",
    "access.columns = [\"text\", \"label\"]\n",
    "\n",
    "mask_none = access[\"label\"].str.lower() == \"none\"\n",
    "access.loc[mask_none, \"text\"] = dataset.loc[mask_none, \"review\"]\n",
    "\n",
    "access[\"label\"] = access[\"label\"].str.replace(\"(?i)^netral$\", \"neutral\", regex=True)\n",
    "access = access.dropna()\n",
    "access"
   ]
  },
  {
   "cell_type": "markdown",
   "id": "fc05024e",
   "metadata": {},
   "source": [
    "#### Price"
   ]
  },
  {
   "cell_type": "code",
   "execution_count": 9,
   "id": "b0378e8a",
   "metadata": {},
   "outputs": [
    {
     "name": "stderr",
     "output_type": "stream",
     "text": [
      "C:\\Users\\hp14s\\AppData\\Local\\Temp\\ipykernel_1928\\3407973812.py:5: SettingWithCopyWarning: \n",
      "A value is trying to be set on a copy of a slice from a DataFrame\n",
      "\n",
      "See the caveats in the documentation: https://pandas.pydata.org/pandas-docs/stable/user_guide/indexing.html#returning-a-view-versus-a-copy\n",
      "  price.loc[mask_none, \"text\"] = dataset.loc[mask_none, \"review\"]\n",
      "C:\\Users\\hp14s\\AppData\\Local\\Temp\\ipykernel_1928\\3407973812.py:7: SettingWithCopyWarning: \n",
      "A value is trying to be set on a copy of a slice from a DataFrame.\n",
      "Try using .loc[row_indexer,col_indexer] = value instead\n",
      "\n",
      "See the caveats in the documentation: https://pandas.pydata.org/pandas-docs/stable/user_guide/indexing.html#returning-a-view-versus-a-copy\n",
      "  price[\"label\"] = price[\"label\"].str.replace(\"(?i)^netral$\", \"neutral\", regex=True)\n"
     ]
    },
    {
     "data": {
      "text/html": [
       "<div>\n",
       "<style scoped>\n",
       "    .dataframe tbody tr th:only-of-type {\n",
       "        vertical-align: middle;\n",
       "    }\n",
       "\n",
       "    .dataframe tbody tr th {\n",
       "        vertical-align: top;\n",
       "    }\n",
       "\n",
       "    .dataframe thead th {\n",
       "        text-align: right;\n",
       "    }\n",
       "</style>\n",
       "<table border=\"1\" class=\"dataframe\">\n",
       "  <thead>\n",
       "    <tr style=\"text-align: right;\">\n",
       "      <th></th>\n",
       "      <th>text</th>\n",
       "      <th>label</th>\n",
       "    </tr>\n",
       "  </thead>\n",
       "  <tbody>\n",
       "    <tr>\n",
       "      <th>0</th>\n",
       "      <td>Suka Bali - area keluarga yang luar biasa_x000...</td>\n",
       "      <td>none</td>\n",
       "    </tr>\n",
       "    <tr>\n",
       "      <th>1</th>\n",
       "      <td>Saya selalu berjalan di Pantai Sanur pada hari...</td>\n",
       "      <td>none</td>\n",
       "    </tr>\n",
       "    <tr>\n",
       "      <th>2</th>\n",
       "      <td>Lokasi paling pas liat sunrise..harus datang s...</td>\n",
       "      <td>positive</td>\n",
       "    </tr>\n",
       "    <tr>\n",
       "      <th>3</th>\n",
       "      <td>Tempatnya bagus, selalu ramai oleh pengunjung....</td>\n",
       "      <td>none</td>\n",
       "    </tr>\n",
       "    <tr>\n",
       "      <th>4</th>\n",
       "      <td>pantai sanur banyak menyimpan misteri dan sang...</td>\n",
       "      <td>none</td>\n",
       "    </tr>\n",
       "    <tr>\n",
       "      <th>...</th>\n",
       "      <td>...</td>\n",
       "      <td>...</td>\n",
       "    </tr>\n",
       "    <tr>\n",
       "      <th>3616</th>\n",
       "      <td>Pantai losari adalah salah itu icon di kota ma...</td>\n",
       "      <td>none</td>\n",
       "    </tr>\n",
       "    <tr>\n",
       "      <th>3617</th>\n",
       "      <td>Salah satu tempat pilihan bila berkunjung Ke M...</td>\n",
       "      <td>none</td>\n",
       "    </tr>\n",
       "    <tr>\n",
       "      <th>3618</th>\n",
       "      <td>Salah satu objek wisata yang ada di kota makas...</td>\n",
       "      <td>none</td>\n",
       "    </tr>\n",
       "    <tr>\n",
       "      <th>3619</th>\n",
       "      <td>Lumayan bersih, asik untuk dikelilingi saat ma...</td>\n",
       "      <td>positive</td>\n",
       "    </tr>\n",
       "    <tr>\n",
       "      <th>3620</th>\n",
       "      <td>Menjadi salah satu destinasi wisata ketika ber...</td>\n",
       "      <td>none</td>\n",
       "    </tr>\n",
       "  </tbody>\n",
       "</table>\n",
       "<p>3611 rows × 2 columns</p>\n",
       "</div>"
      ],
      "text/plain": [
       "                                                   text     label\n",
       "0     Suka Bali - area keluarga yang luar biasa_x000...      none\n",
       "1     Saya selalu berjalan di Pantai Sanur pada hari...      none\n",
       "2     Lokasi paling pas liat sunrise..harus datang s...  positive\n",
       "3     Tempatnya bagus, selalu ramai oleh pengunjung....      none\n",
       "4     pantai sanur banyak menyimpan misteri dan sang...      none\n",
       "...                                                 ...       ...\n",
       "3616  Pantai losari adalah salah itu icon di kota ma...      none\n",
       "3617  Salah satu tempat pilihan bila berkunjung Ke M...      none\n",
       "3618  Salah satu objek wisata yang ada di kota makas...      none\n",
       "3619  Lumayan bersih, asik untuk dikelilingi saat ma...  positive\n",
       "3620  Menjadi salah satu destinasi wisata ketika ber...      none\n",
       "\n",
       "[3611 rows x 2 columns]"
      ]
     },
     "execution_count": 9,
     "metadata": {},
     "output_type": "execute_result"
    }
   ],
   "source": [
    "price = dataset[[\"price_text\", \"price\"]]\n",
    "price.columns = [\"text\", \"label\"]\n",
    "\n",
    "mask_none = price[\"label\"].str.lower() == \"none\"\n",
    "price.loc[mask_none, \"text\"] = dataset.loc[mask_none, \"review\"]\n",
    "\n",
    "price[\"label\"] = price[\"label\"].str.replace(\"(?i)^netral$\", \"neutral\", regex=True)\n",
    "price = price.dropna()\n",
    "price"
   ]
  },
  {
   "cell_type": "markdown",
   "id": "91ae54c9",
   "metadata": {},
   "source": [
    "#### No Aspect"
   ]
  },
  {
   "cell_type": "code",
   "execution_count": 10,
   "id": "5ac361bf",
   "metadata": {},
   "outputs": [
    {
     "name": "stderr",
     "output_type": "stream",
     "text": [
      "C:\\Users\\hp14s\\AppData\\Local\\Temp\\ipykernel_1928\\3335840236.py:5: SettingWithCopyWarning: \n",
      "A value is trying to be set on a copy of a slice from a DataFrame\n",
      "\n",
      "See the caveats in the documentation: https://pandas.pydata.org/pandas-docs/stable/user_guide/indexing.html#returning-a-view-versus-a-copy\n",
      "  no_aspect.loc[mask_none, \"text\"] = dataset.loc[mask_none, \"review\"]\n",
      "C:\\Users\\hp14s\\AppData\\Local\\Temp\\ipykernel_1928\\3335840236.py:7: SettingWithCopyWarning: \n",
      "A value is trying to be set on a copy of a slice from a DataFrame.\n",
      "Try using .loc[row_indexer,col_indexer] = value instead\n",
      "\n",
      "See the caveats in the documentation: https://pandas.pydata.org/pandas-docs/stable/user_guide/indexing.html#returning-a-view-versus-a-copy\n",
      "  no_aspect[\"label\"] = no_aspect[\"label\"].str.replace(\"(?i)^netral$\", \"neutral\", regex=True)\n"
     ]
    },
    {
     "data": {
      "text/html": [
       "<div>\n",
       "<style scoped>\n",
       "    .dataframe tbody tr th:only-of-type {\n",
       "        vertical-align: middle;\n",
       "    }\n",
       "\n",
       "    .dataframe tbody tr th {\n",
       "        vertical-align: top;\n",
       "    }\n",
       "\n",
       "    .dataframe thead th {\n",
       "        text-align: right;\n",
       "    }\n",
       "</style>\n",
       "<table border=\"1\" class=\"dataframe\">\n",
       "  <thead>\n",
       "    <tr style=\"text-align: right;\">\n",
       "      <th></th>\n",
       "      <th>text</th>\n",
       "      <th>label</th>\n",
       "    </tr>\n",
       "  </thead>\n",
       "  <tbody>\n",
       "    <tr>\n",
       "      <th>0</th>\n",
       "      <td>Suka Bali - area keluarga yang luar biasa menc...</td>\n",
       "      <td>neutral</td>\n",
       "    </tr>\n",
       "    <tr>\n",
       "      <th>1</th>\n",
       "      <td>Saya selalu berjalan di Pantai Sanur pada hari...</td>\n",
       "      <td>positive</td>\n",
       "    </tr>\n",
       "    <tr>\n",
       "      <th>2</th>\n",
       "      <td>Lokasi paling pas liat sunrise..harus datang s...</td>\n",
       "      <td>none</td>\n",
       "    </tr>\n",
       "    <tr>\n",
       "      <th>3</th>\n",
       "      <td>Tempatnya bagus, selalu ramai oleh pengunjung....</td>\n",
       "      <td>none</td>\n",
       "    </tr>\n",
       "    <tr>\n",
       "      <th>4</th>\n",
       "      <td>pantai sanur banyak menyimpan misteri dan sang...</td>\n",
       "      <td>none</td>\n",
       "    </tr>\n",
       "    <tr>\n",
       "      <th>...</th>\n",
       "      <td>...</td>\n",
       "      <td>...</td>\n",
       "    </tr>\n",
       "    <tr>\n",
       "      <th>3616</th>\n",
       "      <td>Pantai losari adalah salah itu icon di kota ma...</td>\n",
       "      <td>none</td>\n",
       "    </tr>\n",
       "    <tr>\n",
       "      <th>3617</th>\n",
       "      <td>Salah satu tempat pilihan bila berkunjung Ke M...</td>\n",
       "      <td>positive</td>\n",
       "    </tr>\n",
       "    <tr>\n",
       "      <th>3618</th>\n",
       "      <td>Salah satu objek wisata yang ada di kota makas...</td>\n",
       "      <td>none</td>\n",
       "    </tr>\n",
       "    <tr>\n",
       "      <th>3619</th>\n",
       "      <td>Lumayan bersih, asik untuk dikelilingi saat ma...</td>\n",
       "      <td>none</td>\n",
       "    </tr>\n",
       "    <tr>\n",
       "      <th>3620</th>\n",
       "      <td>Menjadi salah satu destinasi wisata ketika ber...</td>\n",
       "      <td>none</td>\n",
       "    </tr>\n",
       "  </tbody>\n",
       "</table>\n",
       "<p>3610 rows × 2 columns</p>\n",
       "</div>"
      ],
      "text/plain": [
       "                                                   text     label\n",
       "0     Suka Bali - area keluarga yang luar biasa menc...   neutral\n",
       "1     Saya selalu berjalan di Pantai Sanur pada hari...  positive\n",
       "2     Lokasi paling pas liat sunrise..harus datang s...      none\n",
       "3     Tempatnya bagus, selalu ramai oleh pengunjung....      none\n",
       "4     pantai sanur banyak menyimpan misteri dan sang...      none\n",
       "...                                                 ...       ...\n",
       "3616  Pantai losari adalah salah itu icon di kota ma...      none\n",
       "3617  Salah satu tempat pilihan bila berkunjung Ke M...  positive\n",
       "3618  Salah satu objek wisata yang ada di kota makas...      none\n",
       "3619  Lumayan bersih, asik untuk dikelilingi saat ma...      none\n",
       "3620  Menjadi salah satu destinasi wisata ketika ber...      none\n",
       "\n",
       "[3610 rows x 2 columns]"
      ]
     },
     "execution_count": 10,
     "metadata": {},
     "output_type": "execute_result"
    }
   ],
   "source": [
    "no_aspect = dataset[[\"no_aspect_text\", \"no_aspect\"]]\n",
    "no_aspect.columns = [\"text\", \"label\"]\n",
    "\n",
    "mask_none = no_aspect[\"label\"].str.lower() == \"none\"\n",
    "no_aspect.loc[mask_none, \"text\"] = dataset.loc[mask_none, \"review\"]\n",
    "\n",
    "no_aspect[\"label\"] = no_aspect[\"label\"].str.replace(\"(?i)^netral$\", \"neutral\", regex=True)\n",
    "no_aspect = no_aspect.dropna()\n",
    "no_aspect"
   ]
  },
  {
   "cell_type": "markdown",
   "id": "c2c169c0",
   "metadata": {},
   "source": [
    "### Text Preprocessing"
   ]
  },
  {
   "cell_type": "code",
   "execution_count": 11,
   "id": "894f3623",
   "metadata": {},
   "outputs": [],
   "source": [
    "def cleaning_text(text):\n",
    "    text = re.sub(r'@[A-Za-z0-9]+', '', text) # menghapus mention\n",
    "    text = re.sub(r'#[A-Za-z0-9]+', '', text) # menghapus hashtag\n",
    "    text = re.sub(r'RT[\\s]', '', text) # menghapus RT\n",
    "    text = re.sub(r\"http\\S+\", '', text) # menghapus link\n",
    "    text = re.sub(r'[0-9]+', '', text) # menghapus angka\n",
    "    text = re.sub(r'[^\\w\\s]', '', text) # menghapus karakter selain huruf dan angka\n",
    "\n",
    "    text = text.replace('\\n', ' ') # mengganti baris baru dengan spasi\n",
    "    text = text.translate(str.maketrans('', '', string.punctuation)) # menghapus semua tanda baca\n",
    "    text = text.strip(' ') # menghapus karakter spasi dari kiri dan kanan teks\n",
    "    return text\n",
    "\n",
    "def casefolding_text(text): # Mengubah semua karakter dalam teks menjadi huruf kecil\n",
    "    text = text.lower()\n",
    "    return text\n",
    "\n",
    "def tokenizing_text(text): # Memecah atau membagi string, teks menjadi daftar token\n",
    "    text = word_tokenize(text)\n",
    "    return text\n",
    "\n",
    "def filtering_text(text): # Menghapus stopwords dalam teks\n",
    "    listStopwords = set(stopwords.words('indonesian')) # Menggunakan stopwords bahasa Indonesia\n",
    "    filtered = []\n",
    "    for txt in text:\n",
    "        if txt not in listStopwords:\n",
    "            filtered.append(txt)\n",
    "    text = filtered\n",
    "    return text\n",
    "\n",
    "def to_sentence(list_words): # Mengubah daftar kata menjadi kalimat\n",
    "    sentence = ' '.join(word for word in list_words)\n",
    "    return sentence"
   ]
  },
  {
   "cell_type": "code",
   "execution_count": 12,
   "id": "e78a4b5e",
   "metadata": {},
   "outputs": [],
   "source": [
    "def clean_dataframe(clean_df):\n",
    "    clean_df['text_clean'] = clean_df['text'].apply(cleaning_text)\n",
    "\n",
    "    # Mengubah huruf dalam teks menjadi huruf kecil\n",
    "    clean_df['text_casefolding'] = clean_df['text_clean'].apply(casefolding_text)\n",
    "\n",
    "    # Memecah teks menjadi token (kata-kata)\n",
    "    clean_df['text_tokenizing'] = clean_df['text_casefolding'].apply(tokenizing_text)\n",
    "\n",
    "    # Menghapus kata-kata stop (kata-kata umum)\n",
    "    clean_df['text_stopword'] = clean_df['text_tokenizing'].apply(filtering_text)\n",
    "\n",
    "    # Menggabungkan token-token menjadi kalimat\n",
    "    clean_df['final_text'] = clean_df['text_stopword'].apply(to_sentence)\n",
    "\n",
    "    return clean_df"
   ]
  },
  {
   "cell_type": "code",
   "execution_count": 13,
   "id": "db335062",
   "metadata": {},
   "outputs": [],
   "source": [
    "clean_attractions = clean_dataframe(attractions.copy())\n",
    "clean_amenities = clean_dataframe(amenities.copy())\n",
    "clean_access = clean_dataframe(access.copy())\n",
    "clean_price = clean_dataframe(price.copy())\n",
    "clean_no_aspect = clean_dataframe(no_aspect.copy())"
   ]
  },
  {
   "cell_type": "code",
   "execution_count": 14,
   "id": "95c42b99",
   "metadata": {},
   "outputs": [],
   "source": [
    "clean_attractions.to_excel(\"data/clean_attractions.xlsx\", index=False)\n",
    "clean_amenities.to_excel(\"data/clean_amenities.xlsx\", index=False)\n",
    "clean_access.to_excel(\"data/clean_access.xlsx\", index=False)\n",
    "clean_price.to_excel(\"data/clean_price.xlsx\", index=False)\n",
    "clean_no_aspect.to_excel(\"data/clean_no_aspect.xlsx\", index=False)"
   ]
  }
 ],
 "metadata": {
  "kernelspec": {
   "display_name": "main-ds",
   "language": "python",
   "name": "python3"
  },
  "language_info": {
   "codemirror_mode": {
    "name": "ipython",
    "version": 3
   },
   "file_extension": ".py",
   "mimetype": "text/x-python",
   "name": "python",
   "nbconvert_exporter": "python",
   "pygments_lexer": "ipython3",
   "version": "3.9.21"
  }
 },
 "nbformat": 4,
 "nbformat_minor": 5
}
